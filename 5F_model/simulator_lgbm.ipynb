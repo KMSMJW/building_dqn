{
 "cells": [
  {
   "cell_type": "code",
   "execution_count": 1,
   "metadata": {},
   "outputs": [],
   "source": [
    "import pandas as pd\n",
    "import numpy as np"
   ]
  },
  {
   "cell_type": "code",
   "execution_count": 2,
   "metadata": {},
   "outputs": [],
   "source": [
    "df = pd.read_csv('total_merge.csv')"
   ]
  },
  {
   "cell_type": "code",
   "execution_count": 3,
   "metadata": {},
   "outputs": [],
   "source": [
    "timestep = 30"
   ]
  },
  {
   "cell_type": "code",
   "execution_count": 4,
   "metadata": {},
   "outputs": [],
   "source": [
    "df['timestamp'] = pd.to_datetime(df['timestamp'])\n",
    "df['Date'] = df['timestamp'].dt.date\n",
    "df['hour'] = df['timestamp'].dt.hour\n",
    "df['cnt'] = (df['timestamp'].dt.hour*60 + df['timestamp'].dt.minute)//timestep"
   ]
  },
  {
   "cell_type": "code",
   "execution_count": 5,
   "metadata": {},
   "outputs": [
    {
     "name": "stderr",
     "output_type": "stream",
     "text": [
      "C:\\Users\\minseok\\AppData\\Local\\Temp\\ipykernel_27396\\459440694.py:1: FutureWarning: The default value of numeric_only in DataFrameGroupBy.mean is deprecated. In a future version, numeric_only will default to False. Either specify numeric_only or select only columns which should be valid for the function.\n",
      "  df = df.groupby(['Date','cnt']).mean()\n"
     ]
    }
   ],
   "source": [
    "df = df.groupby(['Date','cnt']).mean()\n",
    "df = df.reset_index()"
   ]
  },
  {
   "cell_type": "code",
   "execution_count": 6,
   "metadata": {},
   "outputs": [],
   "source": [
    "df = df[(df['hour']<=22) & (df['hour']>=8)]"
   ]
  },
  {
   "cell_type": "code",
   "execution_count": 7,
   "metadata": {},
   "outputs": [
    {
     "data": {
      "text/html": [
       "<div>\n",
       "<style scoped>\n",
       "    .dataframe tbody tr th:only-of-type {\n",
       "        vertical-align: middle;\n",
       "    }\n",
       "\n",
       "    .dataframe tbody tr th {\n",
       "        vertical-align: top;\n",
       "    }\n",
       "\n",
       "    .dataframe thead th {\n",
       "        text-align: right;\n",
       "    }\n",
       "</style>\n",
       "<table border=\"1\" class=\"dataframe\">\n",
       "  <thead>\n",
       "    <tr style=\"text-align: right;\">\n",
       "      <th></th>\n",
       "      <th>Date</th>\n",
       "      <th>cnt</th>\n",
       "      <th>1F_temp</th>\n",
       "      <th>2F_temp</th>\n",
       "      <th>3F_temp</th>\n",
       "      <th>4F_temp</th>\n",
       "      <th>5F_temp</th>\n",
       "      <th>E1_L1/A_demand</th>\n",
       "      <th>E6_L1/A_demand</th>\n",
       "      <th>E7_L1/A_demand</th>\n",
       "      <th>E8_L1/A_demand</th>\n",
       "      <th>E9_L1/A_demand</th>\n",
       "      <th>E10_L1/A_demand</th>\n",
       "      <th>TA</th>\n",
       "      <th>CA</th>\n",
       "      <th>instant_headcount</th>\n",
       "      <th>cumulative_headcount</th>\n",
       "      <th>hour</th>\n",
       "    </tr>\n",
       "  </thead>\n",
       "  <tbody>\n",
       "    <tr>\n",
       "      <th>16</th>\n",
       "      <td>2023-03-23</td>\n",
       "      <td>16</td>\n",
       "      <td>18.949722</td>\n",
       "      <td>20.842722</td>\n",
       "      <td>22.518667</td>\n",
       "      <td>23.198333</td>\n",
       "      <td>24.317944</td>\n",
       "      <td>13.100000</td>\n",
       "      <td>61.633333</td>\n",
       "      <td>-59.800000</td>\n",
       "      <td>57.500000</td>\n",
       "      <td>0.000000</td>\n",
       "      <td>38.666667</td>\n",
       "      <td>12.745000</td>\n",
       "      <td>10.000000</td>\n",
       "      <td>0.000000</td>\n",
       "      <td>0.000000</td>\n",
       "      <td>8.0</td>\n",
       "    </tr>\n",
       "    <tr>\n",
       "      <th>17</th>\n",
       "      <td>2023-03-23</td>\n",
       "      <td>17</td>\n",
       "      <td>18.829167</td>\n",
       "      <td>21.365000</td>\n",
       "      <td>23.078278</td>\n",
       "      <td>23.754889</td>\n",
       "      <td>24.553444</td>\n",
       "      <td>-2.466667</td>\n",
       "      <td>56.533333</td>\n",
       "      <td>-56.033333</td>\n",
       "      <td>53.600000</td>\n",
       "      <td>0.000000</td>\n",
       "      <td>36.800000</td>\n",
       "      <td>13.045000</td>\n",
       "      <td>10.000000</td>\n",
       "      <td>0.000000</td>\n",
       "      <td>0.000000</td>\n",
       "      <td>8.0</td>\n",
       "    </tr>\n",
       "    <tr>\n",
       "      <th>18</th>\n",
       "      <td>2023-03-23</td>\n",
       "      <td>18</td>\n",
       "      <td>18.312944</td>\n",
       "      <td>21.550778</td>\n",
       "      <td>23.394111</td>\n",
       "      <td>24.092278</td>\n",
       "      <td>24.271722</td>\n",
       "      <td>-2.333333</td>\n",
       "      <td>43.433333</td>\n",
       "      <td>-55.733333</td>\n",
       "      <td>53.600000</td>\n",
       "      <td>-0.033333</td>\n",
       "      <td>36.700000</td>\n",
       "      <td>12.668333</td>\n",
       "      <td>10.000000</td>\n",
       "      <td>0.100000</td>\n",
       "      <td>1.077667</td>\n",
       "      <td>9.0</td>\n",
       "    </tr>\n",
       "    <tr>\n",
       "      <th>19</th>\n",
       "      <td>2023-03-23</td>\n",
       "      <td>19</td>\n",
       "      <td>18.146778</td>\n",
       "      <td>21.664778</td>\n",
       "      <td>23.578333</td>\n",
       "      <td>24.320778</td>\n",
       "      <td>24.138889</td>\n",
       "      <td>-2.333333</td>\n",
       "      <td>23.866667</td>\n",
       "      <td>-36.933333</td>\n",
       "      <td>54.700000</td>\n",
       "      <td>-0.033333</td>\n",
       "      <td>16.866667</td>\n",
       "      <td>11.568333</td>\n",
       "      <td>10.000000</td>\n",
       "      <td>0.933333</td>\n",
       "      <td>3.749667</td>\n",
       "      <td>9.0</td>\n",
       "    </tr>\n",
       "    <tr>\n",
       "      <th>20</th>\n",
       "      <td>2023-03-23</td>\n",
       "      <td>20</td>\n",
       "      <td>19.240222</td>\n",
       "      <td>22.169889</td>\n",
       "      <td>23.974111</td>\n",
       "      <td>24.645722</td>\n",
       "      <td>24.061778</td>\n",
       "      <td>35.466667</td>\n",
       "      <td>24.766667</td>\n",
       "      <td>-28.000000</td>\n",
       "      <td>56.166667</td>\n",
       "      <td>0.000000</td>\n",
       "      <td>-2.900000</td>\n",
       "      <td>10.927500</td>\n",
       "      <td>10.000000</td>\n",
       "      <td>1.433333</td>\n",
       "      <td>46.635667</td>\n",
       "      <td>10.0</td>\n",
       "    </tr>\n",
       "    <tr>\n",
       "      <th>...</th>\n",
       "      <td>...</td>\n",
       "      <td>...</td>\n",
       "      <td>...</td>\n",
       "      <td>...</td>\n",
       "      <td>...</td>\n",
       "      <td>...</td>\n",
       "      <td>...</td>\n",
       "      <td>...</td>\n",
       "      <td>...</td>\n",
       "      <td>...</td>\n",
       "      <td>...</td>\n",
       "      <td>...</td>\n",
       "      <td>...</td>\n",
       "      <td>...</td>\n",
       "      <td>...</td>\n",
       "      <td>...</td>\n",
       "      <td>...</td>\n",
       "      <td>...</td>\n",
       "    </tr>\n",
       "    <tr>\n",
       "      <th>4985</th>\n",
       "      <td>2023-10-11</td>\n",
       "      <td>41</td>\n",
       "      <td>21.122444</td>\n",
       "      <td>22.668722</td>\n",
       "      <td>19.838667</td>\n",
       "      <td>23.125000</td>\n",
       "      <td>23.144444</td>\n",
       "      <td>2312.700000</td>\n",
       "      <td>913.066667</td>\n",
       "      <td>3527.533333</td>\n",
       "      <td>-4.500000</td>\n",
       "      <td>-4.700000</td>\n",
       "      <td>-0.066667</td>\n",
       "      <td>13.755000</td>\n",
       "      <td>1.741667</td>\n",
       "      <td>2.500000</td>\n",
       "      <td>115.760000</td>\n",
       "      <td>20.0</td>\n",
       "    </tr>\n",
       "    <tr>\n",
       "      <th>4986</th>\n",
       "      <td>2023-10-11</td>\n",
       "      <td>42</td>\n",
       "      <td>20.989833</td>\n",
       "      <td>22.797722</td>\n",
       "      <td>19.819667</td>\n",
       "      <td>23.125000</td>\n",
       "      <td>23.648611</td>\n",
       "      <td>2334.700000</td>\n",
       "      <td>858.033333</td>\n",
       "      <td>3646.266667</td>\n",
       "      <td>-5.033333</td>\n",
       "      <td>384.466667</td>\n",
       "      <td>-0.066667</td>\n",
       "      <td>13.479167</td>\n",
       "      <td>1.516667</td>\n",
       "      <td>2.200000</td>\n",
       "      <td>68.899000</td>\n",
       "      <td>21.0</td>\n",
       "    </tr>\n",
       "    <tr>\n",
       "      <th>4987</th>\n",
       "      <td>2023-10-11</td>\n",
       "      <td>43</td>\n",
       "      <td>21.012778</td>\n",
       "      <td>22.864556</td>\n",
       "      <td>19.830389</td>\n",
       "      <td>23.125000</td>\n",
       "      <td>23.567389</td>\n",
       "      <td>1547.266667</td>\n",
       "      <td>596.933333</td>\n",
       "      <td>1923.933333</td>\n",
       "      <td>29.400000</td>\n",
       "      <td>891.166667</td>\n",
       "      <td>35.966667</td>\n",
       "      <td>13.229167</td>\n",
       "      <td>0.516667</td>\n",
       "      <td>0.666667</td>\n",
       "      <td>47.229667</td>\n",
       "      <td>21.0</td>\n",
       "    </tr>\n",
       "    <tr>\n",
       "      <th>4988</th>\n",
       "      <td>2023-10-11</td>\n",
       "      <td>44</td>\n",
       "      <td>21.533833</td>\n",
       "      <td>22.974833</td>\n",
       "      <td>20.737056</td>\n",
       "      <td>23.125000</td>\n",
       "      <td>23.725167</td>\n",
       "      <td>-1.300000</td>\n",
       "      <td>25.466667</td>\n",
       "      <td>-1.500000</td>\n",
       "      <td>54.766667</td>\n",
       "      <td>-2.133333</td>\n",
       "      <td>35.333333</td>\n",
       "      <td>13.148333</td>\n",
       "      <td>0.725000</td>\n",
       "      <td>0.133333</td>\n",
       "      <td>8.499333</td>\n",
       "      <td>22.0</td>\n",
       "    </tr>\n",
       "    <tr>\n",
       "      <th>4989</th>\n",
       "      <td>2023-10-11</td>\n",
       "      <td>45</td>\n",
       "      <td>21.544222</td>\n",
       "      <td>22.526056</td>\n",
       "      <td>20.956778</td>\n",
       "      <td>23.125000</td>\n",
       "      <td>23.533722</td>\n",
       "      <td>-1.233333</td>\n",
       "      <td>26.033333</td>\n",
       "      <td>-1.366667</td>\n",
       "      <td>54.933333</td>\n",
       "      <td>-1.900000</td>\n",
       "      <td>35.066667</td>\n",
       "      <td>13.248333</td>\n",
       "      <td>2.225000</td>\n",
       "      <td>0.000000</td>\n",
       "      <td>0.926000</td>\n",
       "      <td>22.0</td>\n",
       "    </tr>\n",
       "  </tbody>\n",
       "</table>\n",
       "<p>3120 rows × 18 columns</p>\n",
       "</div>"
      ],
      "text/plain": [
       "            Date  cnt    1F_temp    2F_temp    3F_temp    4F_temp    5F_temp  \\\n",
       "16    2023-03-23   16  18.949722  20.842722  22.518667  23.198333  24.317944   \n",
       "17    2023-03-23   17  18.829167  21.365000  23.078278  23.754889  24.553444   \n",
       "18    2023-03-23   18  18.312944  21.550778  23.394111  24.092278  24.271722   \n",
       "19    2023-03-23   19  18.146778  21.664778  23.578333  24.320778  24.138889   \n",
       "20    2023-03-23   20  19.240222  22.169889  23.974111  24.645722  24.061778   \n",
       "...          ...  ...        ...        ...        ...        ...        ...   \n",
       "4985  2023-10-11   41  21.122444  22.668722  19.838667  23.125000  23.144444   \n",
       "4986  2023-10-11   42  20.989833  22.797722  19.819667  23.125000  23.648611   \n",
       "4987  2023-10-11   43  21.012778  22.864556  19.830389  23.125000  23.567389   \n",
       "4988  2023-10-11   44  21.533833  22.974833  20.737056  23.125000  23.725167   \n",
       "4989  2023-10-11   45  21.544222  22.526056  20.956778  23.125000  23.533722   \n",
       "\n",
       "      E1_L1/A_demand  E6_L1/A_demand  E7_L1/A_demand  E8_L1/A_demand  \\\n",
       "16         13.100000       61.633333      -59.800000       57.500000   \n",
       "17         -2.466667       56.533333      -56.033333       53.600000   \n",
       "18         -2.333333       43.433333      -55.733333       53.600000   \n",
       "19         -2.333333       23.866667      -36.933333       54.700000   \n",
       "20         35.466667       24.766667      -28.000000       56.166667   \n",
       "...              ...             ...             ...             ...   \n",
       "4985     2312.700000      913.066667     3527.533333       -4.500000   \n",
       "4986     2334.700000      858.033333     3646.266667       -5.033333   \n",
       "4987     1547.266667      596.933333     1923.933333       29.400000   \n",
       "4988       -1.300000       25.466667       -1.500000       54.766667   \n",
       "4989       -1.233333       26.033333       -1.366667       54.933333   \n",
       "\n",
       "      E9_L1/A_demand  E10_L1/A_demand         TA         CA  \\\n",
       "16          0.000000        38.666667  12.745000  10.000000   \n",
       "17          0.000000        36.800000  13.045000  10.000000   \n",
       "18         -0.033333        36.700000  12.668333  10.000000   \n",
       "19         -0.033333        16.866667  11.568333  10.000000   \n",
       "20          0.000000        -2.900000  10.927500  10.000000   \n",
       "...              ...              ...        ...        ...   \n",
       "4985       -4.700000        -0.066667  13.755000   1.741667   \n",
       "4986      384.466667        -0.066667  13.479167   1.516667   \n",
       "4987      891.166667        35.966667  13.229167   0.516667   \n",
       "4988       -2.133333        35.333333  13.148333   0.725000   \n",
       "4989       -1.900000        35.066667  13.248333   2.225000   \n",
       "\n",
       "      instant_headcount  cumulative_headcount  hour  \n",
       "16             0.000000              0.000000   8.0  \n",
       "17             0.000000              0.000000   8.0  \n",
       "18             0.100000              1.077667   9.0  \n",
       "19             0.933333              3.749667   9.0  \n",
       "20             1.433333             46.635667  10.0  \n",
       "...                 ...                   ...   ...  \n",
       "4985           2.500000            115.760000  20.0  \n",
       "4986           2.200000             68.899000  21.0  \n",
       "4987           0.666667             47.229667  21.0  \n",
       "4988           0.133333              8.499333  22.0  \n",
       "4989           0.000000              0.926000  22.0  \n",
       "\n",
       "[3120 rows x 18 columns]"
      ]
     },
     "execution_count": 7,
     "metadata": {},
     "output_type": "execute_result"
    }
   ],
   "source": [
    "df"
   ]
  },
  {
   "cell_type": "code",
   "execution_count": 8,
   "metadata": {},
   "outputs": [],
   "source": [
    "df = df[['5F_temp','TA','CA','instant_headcount','cumulative_headcount','cnt','E10_L1/A_demand']].reset_index(drop=True)"
   ]
  },
  {
   "cell_type": "code",
   "execution_count": 9,
   "metadata": {},
   "outputs": [
    {
     "data": {
      "text/html": [
       "<div>\n",
       "<style scoped>\n",
       "    .dataframe tbody tr th:only-of-type {\n",
       "        vertical-align: middle;\n",
       "    }\n",
       "\n",
       "    .dataframe tbody tr th {\n",
       "        vertical-align: top;\n",
       "    }\n",
       "\n",
       "    .dataframe thead th {\n",
       "        text-align: right;\n",
       "    }\n",
       "</style>\n",
       "<table border=\"1\" class=\"dataframe\">\n",
       "  <thead>\n",
       "    <tr style=\"text-align: right;\">\n",
       "      <th></th>\n",
       "      <th>5F_temp</th>\n",
       "      <th>TA</th>\n",
       "      <th>CA</th>\n",
       "      <th>instant_headcount</th>\n",
       "      <th>cumulative_headcount</th>\n",
       "      <th>cnt</th>\n",
       "      <th>E10_L1/A_demand</th>\n",
       "    </tr>\n",
       "  </thead>\n",
       "  <tbody>\n",
       "    <tr>\n",
       "      <th>0</th>\n",
       "      <td>24.317944</td>\n",
       "      <td>12.745000</td>\n",
       "      <td>10.000000</td>\n",
       "      <td>0.000000</td>\n",
       "      <td>0.000000</td>\n",
       "      <td>16</td>\n",
       "      <td>38.666667</td>\n",
       "    </tr>\n",
       "    <tr>\n",
       "      <th>1</th>\n",
       "      <td>24.553444</td>\n",
       "      <td>13.045000</td>\n",
       "      <td>10.000000</td>\n",
       "      <td>0.000000</td>\n",
       "      <td>0.000000</td>\n",
       "      <td>17</td>\n",
       "      <td>36.800000</td>\n",
       "    </tr>\n",
       "    <tr>\n",
       "      <th>2</th>\n",
       "      <td>24.271722</td>\n",
       "      <td>12.668333</td>\n",
       "      <td>10.000000</td>\n",
       "      <td>0.100000</td>\n",
       "      <td>1.077667</td>\n",
       "      <td>18</td>\n",
       "      <td>36.700000</td>\n",
       "    </tr>\n",
       "    <tr>\n",
       "      <th>3</th>\n",
       "      <td>24.138889</td>\n",
       "      <td>11.568333</td>\n",
       "      <td>10.000000</td>\n",
       "      <td>0.933333</td>\n",
       "      <td>3.749667</td>\n",
       "      <td>19</td>\n",
       "      <td>16.866667</td>\n",
       "    </tr>\n",
       "    <tr>\n",
       "      <th>4</th>\n",
       "      <td>24.061778</td>\n",
       "      <td>10.927500</td>\n",
       "      <td>10.000000</td>\n",
       "      <td>1.433333</td>\n",
       "      <td>46.635667</td>\n",
       "      <td>20</td>\n",
       "      <td>-2.900000</td>\n",
       "    </tr>\n",
       "    <tr>\n",
       "      <th>...</th>\n",
       "      <td>...</td>\n",
       "      <td>...</td>\n",
       "      <td>...</td>\n",
       "      <td>...</td>\n",
       "      <td>...</td>\n",
       "      <td>...</td>\n",
       "      <td>...</td>\n",
       "    </tr>\n",
       "    <tr>\n",
       "      <th>3115</th>\n",
       "      <td>23.144444</td>\n",
       "      <td>13.755000</td>\n",
       "      <td>1.741667</td>\n",
       "      <td>2.500000</td>\n",
       "      <td>115.760000</td>\n",
       "      <td>41</td>\n",
       "      <td>-0.066667</td>\n",
       "    </tr>\n",
       "    <tr>\n",
       "      <th>3116</th>\n",
       "      <td>23.648611</td>\n",
       "      <td>13.479167</td>\n",
       "      <td>1.516667</td>\n",
       "      <td>2.200000</td>\n",
       "      <td>68.899000</td>\n",
       "      <td>42</td>\n",
       "      <td>-0.066667</td>\n",
       "    </tr>\n",
       "    <tr>\n",
       "      <th>3117</th>\n",
       "      <td>23.567389</td>\n",
       "      <td>13.229167</td>\n",
       "      <td>0.516667</td>\n",
       "      <td>0.666667</td>\n",
       "      <td>47.229667</td>\n",
       "      <td>43</td>\n",
       "      <td>35.966667</td>\n",
       "    </tr>\n",
       "    <tr>\n",
       "      <th>3118</th>\n",
       "      <td>23.725167</td>\n",
       "      <td>13.148333</td>\n",
       "      <td>0.725000</td>\n",
       "      <td>0.133333</td>\n",
       "      <td>8.499333</td>\n",
       "      <td>44</td>\n",
       "      <td>35.333333</td>\n",
       "    </tr>\n",
       "    <tr>\n",
       "      <th>3119</th>\n",
       "      <td>23.533722</td>\n",
       "      <td>13.248333</td>\n",
       "      <td>2.225000</td>\n",
       "      <td>0.000000</td>\n",
       "      <td>0.926000</td>\n",
       "      <td>45</td>\n",
       "      <td>35.066667</td>\n",
       "    </tr>\n",
       "  </tbody>\n",
       "</table>\n",
       "<p>3120 rows × 7 columns</p>\n",
       "</div>"
      ],
      "text/plain": [
       "        5F_temp         TA         CA  instant_headcount  \\\n",
       "0     24.317944  12.745000  10.000000           0.000000   \n",
       "1     24.553444  13.045000  10.000000           0.000000   \n",
       "2     24.271722  12.668333  10.000000           0.100000   \n",
       "3     24.138889  11.568333  10.000000           0.933333   \n",
       "4     24.061778  10.927500  10.000000           1.433333   \n",
       "...         ...        ...        ...                ...   \n",
       "3115  23.144444  13.755000   1.741667           2.500000   \n",
       "3116  23.648611  13.479167   1.516667           2.200000   \n",
       "3117  23.567389  13.229167   0.516667           0.666667   \n",
       "3118  23.725167  13.148333   0.725000           0.133333   \n",
       "3119  23.533722  13.248333   2.225000           0.000000   \n",
       "\n",
       "      cumulative_headcount  cnt  E10_L1/A_demand  \n",
       "0                 0.000000   16        38.666667  \n",
       "1                 0.000000   17        36.800000  \n",
       "2                 1.077667   18        36.700000  \n",
       "3                 3.749667   19        16.866667  \n",
       "4                46.635667   20        -2.900000  \n",
       "...                    ...  ...              ...  \n",
       "3115            115.760000   41        -0.066667  \n",
       "3116             68.899000   42        -0.066667  \n",
       "3117             47.229667   43        35.966667  \n",
       "3118              8.499333   44        35.333333  \n",
       "3119              0.926000   45        35.066667  \n",
       "\n",
       "[3120 rows x 7 columns]"
      ]
     },
     "execution_count": 9,
     "metadata": {},
     "output_type": "execute_result"
    }
   ],
   "source": [
    "df"
   ]
  },
  {
   "cell_type": "code",
   "execution_count": 10,
   "metadata": {},
   "outputs": [],
   "source": [
    "df['Y'] = df['5F_temp'].shift(-1)"
   ]
  },
  {
   "cell_type": "code",
   "execution_count": 11,
   "metadata": {},
   "outputs": [],
   "source": [
    "df = df.dropna()"
   ]
  },
  {
   "cell_type": "code",
   "execution_count": 12,
   "metadata": {},
   "outputs": [
    {
     "data": {
      "text/html": [
       "<div>\n",
       "<style scoped>\n",
       "    .dataframe tbody tr th:only-of-type {\n",
       "        vertical-align: middle;\n",
       "    }\n",
       "\n",
       "    .dataframe tbody tr th {\n",
       "        vertical-align: top;\n",
       "    }\n",
       "\n",
       "    .dataframe thead th {\n",
       "        text-align: right;\n",
       "    }\n",
       "</style>\n",
       "<table border=\"1\" class=\"dataframe\">\n",
       "  <thead>\n",
       "    <tr style=\"text-align: right;\">\n",
       "      <th></th>\n",
       "      <th>5F_temp</th>\n",
       "      <th>TA</th>\n",
       "      <th>CA</th>\n",
       "      <th>instant_headcount</th>\n",
       "      <th>cumulative_headcount</th>\n",
       "      <th>cnt</th>\n",
       "      <th>E10_L1/A_demand</th>\n",
       "      <th>Y</th>\n",
       "    </tr>\n",
       "  </thead>\n",
       "  <tbody>\n",
       "    <tr>\n",
       "      <th>0</th>\n",
       "      <td>24.317944</td>\n",
       "      <td>12.745000</td>\n",
       "      <td>10.000000</td>\n",
       "      <td>0.000000</td>\n",
       "      <td>0.000000</td>\n",
       "      <td>16</td>\n",
       "      <td>38.666667</td>\n",
       "      <td>24.553444</td>\n",
       "    </tr>\n",
       "    <tr>\n",
       "      <th>1</th>\n",
       "      <td>24.553444</td>\n",
       "      <td>13.045000</td>\n",
       "      <td>10.000000</td>\n",
       "      <td>0.000000</td>\n",
       "      <td>0.000000</td>\n",
       "      <td>17</td>\n",
       "      <td>36.800000</td>\n",
       "      <td>24.271722</td>\n",
       "    </tr>\n",
       "    <tr>\n",
       "      <th>2</th>\n",
       "      <td>24.271722</td>\n",
       "      <td>12.668333</td>\n",
       "      <td>10.000000</td>\n",
       "      <td>0.100000</td>\n",
       "      <td>1.077667</td>\n",
       "      <td>18</td>\n",
       "      <td>36.700000</td>\n",
       "      <td>24.138889</td>\n",
       "    </tr>\n",
       "    <tr>\n",
       "      <th>3</th>\n",
       "      <td>24.138889</td>\n",
       "      <td>11.568333</td>\n",
       "      <td>10.000000</td>\n",
       "      <td>0.933333</td>\n",
       "      <td>3.749667</td>\n",
       "      <td>19</td>\n",
       "      <td>16.866667</td>\n",
       "      <td>24.061778</td>\n",
       "    </tr>\n",
       "    <tr>\n",
       "      <th>4</th>\n",
       "      <td>24.061778</td>\n",
       "      <td>10.927500</td>\n",
       "      <td>10.000000</td>\n",
       "      <td>1.433333</td>\n",
       "      <td>46.635667</td>\n",
       "      <td>20</td>\n",
       "      <td>-2.900000</td>\n",
       "      <td>24.025611</td>\n",
       "    </tr>\n",
       "    <tr>\n",
       "      <th>...</th>\n",
       "      <td>...</td>\n",
       "      <td>...</td>\n",
       "      <td>...</td>\n",
       "      <td>...</td>\n",
       "      <td>...</td>\n",
       "      <td>...</td>\n",
       "      <td>...</td>\n",
       "      <td>...</td>\n",
       "    </tr>\n",
       "    <tr>\n",
       "      <th>3114</th>\n",
       "      <td>22.360389</td>\n",
       "      <td>14.055000</td>\n",
       "      <td>1.241667</td>\n",
       "      <td>4.733333</td>\n",
       "      <td>108.473333</td>\n",
       "      <td>40</td>\n",
       "      <td>-0.066667</td>\n",
       "      <td>23.144444</td>\n",
       "    </tr>\n",
       "    <tr>\n",
       "      <th>3115</th>\n",
       "      <td>23.144444</td>\n",
       "      <td>13.755000</td>\n",
       "      <td>1.741667</td>\n",
       "      <td>2.500000</td>\n",
       "      <td>115.760000</td>\n",
       "      <td>41</td>\n",
       "      <td>-0.066667</td>\n",
       "      <td>23.648611</td>\n",
       "    </tr>\n",
       "    <tr>\n",
       "      <th>3116</th>\n",
       "      <td>23.648611</td>\n",
       "      <td>13.479167</td>\n",
       "      <td>1.516667</td>\n",
       "      <td>2.200000</td>\n",
       "      <td>68.899000</td>\n",
       "      <td>42</td>\n",
       "      <td>-0.066667</td>\n",
       "      <td>23.567389</td>\n",
       "    </tr>\n",
       "    <tr>\n",
       "      <th>3117</th>\n",
       "      <td>23.567389</td>\n",
       "      <td>13.229167</td>\n",
       "      <td>0.516667</td>\n",
       "      <td>0.666667</td>\n",
       "      <td>47.229667</td>\n",
       "      <td>43</td>\n",
       "      <td>35.966667</td>\n",
       "      <td>23.725167</td>\n",
       "    </tr>\n",
       "    <tr>\n",
       "      <th>3118</th>\n",
       "      <td>23.725167</td>\n",
       "      <td>13.148333</td>\n",
       "      <td>0.725000</td>\n",
       "      <td>0.133333</td>\n",
       "      <td>8.499333</td>\n",
       "      <td>44</td>\n",
       "      <td>35.333333</td>\n",
       "      <td>23.533722</td>\n",
       "    </tr>\n",
       "  </tbody>\n",
       "</table>\n",
       "<p>3119 rows × 8 columns</p>\n",
       "</div>"
      ],
      "text/plain": [
       "        5F_temp         TA         CA  instant_headcount  \\\n",
       "0     24.317944  12.745000  10.000000           0.000000   \n",
       "1     24.553444  13.045000  10.000000           0.000000   \n",
       "2     24.271722  12.668333  10.000000           0.100000   \n",
       "3     24.138889  11.568333  10.000000           0.933333   \n",
       "4     24.061778  10.927500  10.000000           1.433333   \n",
       "...         ...        ...        ...                ...   \n",
       "3114  22.360389  14.055000   1.241667           4.733333   \n",
       "3115  23.144444  13.755000   1.741667           2.500000   \n",
       "3116  23.648611  13.479167   1.516667           2.200000   \n",
       "3117  23.567389  13.229167   0.516667           0.666667   \n",
       "3118  23.725167  13.148333   0.725000           0.133333   \n",
       "\n",
       "      cumulative_headcount  cnt  E10_L1/A_demand          Y  \n",
       "0                 0.000000   16        38.666667  24.553444  \n",
       "1                 0.000000   17        36.800000  24.271722  \n",
       "2                 1.077667   18        36.700000  24.138889  \n",
       "3                 3.749667   19        16.866667  24.061778  \n",
       "4                46.635667   20        -2.900000  24.025611  \n",
       "...                    ...  ...              ...        ...  \n",
       "3114            108.473333   40        -0.066667  23.144444  \n",
       "3115            115.760000   41        -0.066667  23.648611  \n",
       "3116             68.899000   42        -0.066667  23.567389  \n",
       "3117             47.229667   43        35.966667  23.725167  \n",
       "3118              8.499333   44        35.333333  23.533722  \n",
       "\n",
       "[3119 rows x 8 columns]"
      ]
     },
     "execution_count": 12,
     "metadata": {},
     "output_type": "execute_result"
    }
   ],
   "source": [
    "df"
   ]
  },
  {
   "cell_type": "code",
   "execution_count": 13,
   "metadata": {},
   "outputs": [],
   "source": [
    "X = np.array(df.drop(['Y'],axis=1))\n",
    "Y = np.array(df[['Y']])"
   ]
  },
  {
   "cell_type": "code",
   "execution_count": 14,
   "metadata": {},
   "outputs": [],
   "source": [
    "from sklearn.preprocessing import StandardScaler, MinMaxScaler\n",
    "from sklearn.model_selection import train_test_split\n",
    "from sklearn.metrics import mean_absolute_percentage_error\n",
    "from sklearn.metrics import mean_squared_error, r2_score\n",
    "from lightgbm import LGBMRegressor"
   ]
  },
  {
   "cell_type": "code",
   "execution_count": 15,
   "metadata": {},
   "outputs": [
    {
     "name": "stdout",
     "output_type": "stream",
     "text": [
      "[LightGBM] [Info] Auto-choosing col-wise multi-threading, the overhead of testing was 0.000172 seconds.\n",
      "You can set `force_col_wise=true` to remove the overhead.\n",
      "[LightGBM] [Info] Total Bins 1433\n",
      "[LightGBM] [Info] Number of data points in the train set: 2651, number of used features: 7\n",
      "[LightGBM] [Info] Start training from score 0.395469\n"
     ]
    },
    {
     "name": "stderr",
     "output_type": "stream",
     "text": [
      "c:\\Users\\minseok\\anaconda3\\envs\\boltzman\\lib\\site-packages\\sklearn\\utils\\validation.py:1143: DataConversionWarning: A column-vector y was passed when a 1d array was expected. Please change the shape of y to (n_samples, ), for example using ravel().\n",
      "  y = column_or_1d(y, warn=True)\n"
     ]
    }
   ],
   "source": [
    "train_x, test_x, train_y, test_y = train_test_split(X, Y, test_size=0.15, shuffle=True)\n",
    "scaler_x = MinMaxScaler()\n",
    "train_x = scaler_x.fit_transform(train_x)\n",
    "test_x = scaler_x.transform(test_x)\n",
    "scaler_y = MinMaxScaler()\n",
    "train_y = scaler_y.fit_transform(train_y.reshape(-1,1))\n",
    "test_y = scaler_y.transform(test_y.reshape(-1,1))\n",
    "model = LGBMRegressor()\n",
    "model.fit(train_x,train_y)\n",
    "pred = model.predict(test_x)\n",
    "pred = scaler_y.inverse_transform(pred.reshape(-1,1))\n",
    "real = scaler_y.inverse_transform(test_y)"
   ]
  },
  {
   "cell_type": "code",
   "execution_count": 16,
   "metadata": {},
   "outputs": [],
   "source": [
    "import matplotlib.pyplot as plt"
   ]
  },
  {
   "cell_type": "code",
   "execution_count": 17,
   "metadata": {},
   "outputs": [],
   "source": [
    "rmse = mean_squared_error(real,pred,squared=False)\n",
    "cvrmse = rmse/np.average(real)"
   ]
  },
  {
   "cell_type": "code",
   "execution_count": 18,
   "metadata": {},
   "outputs": [
    {
     "name": "stdout",
     "output_type": "stream",
     "text": [
      "0.3457667161686044\n",
      "0.014257860063804388\n"
     ]
    }
   ],
   "source": [
    "print(rmse)\n",
    "print(cvrmse)"
   ]
  },
  {
   "cell_type": "code",
   "execution_count": 19,
   "metadata": {},
   "outputs": [],
   "source": [
    "mape = mean_absolute_percentage_error(real,pred)"
   ]
  },
  {
   "cell_type": "code",
   "execution_count": 20,
   "metadata": {},
   "outputs": [
    {
     "data": {
      "text/plain": [
       "0.008115144907974683"
      ]
     },
     "execution_count": 20,
     "metadata": {},
     "output_type": "execute_result"
    }
   ],
   "source": [
    "mape"
   ]
  },
  {
   "cell_type": "code",
   "execution_count": 21,
   "metadata": {},
   "outputs": [
    {
     "data": {
      "text/plain": [
       "<matplotlib.legend.Legend at 0x1c12c48bc40>"
      ]
     },
     "execution_count": 21,
     "metadata": {},
     "output_type": "execute_result"
    },
    {
     "data": {
      "image/png": "[encoded data removed]",
      "text/plain": [
       "<Figure size 640x480 with 1 Axes>"
      ]
     },
     "metadata": {},
     "output_type": "display_data"
    }
   ],
   "source": [
    "plt.plot(pred, label='pred')\n",
    "plt.plot(real, label='real')\n",
    "plt.legend()"
   ]
  },
  {
   "cell_type": "code",
   "execution_count": 22,
   "metadata": {},
   "outputs": [],
   "source": [
    "min = np.min(real)\n",
    "max = np.max(real)"
   ]
  },
  {
   "cell_type": "code",
   "execution_count": 23,
   "metadata": {},
   "outputs": [
    {
     "data": {
      "text/plain": [
       "Text(0, 0.5, 'pred')"
      ]
     },
     "execution_count": 23,
     "metadata": {},
     "output_type": "execute_result"
    },
    {
     "data": {
      "image/png": "[encoded data removed]",
      "text/plain": [
       "<Figure size 640x480 with 1 Axes>"
      ]
     },
     "metadata": {},
     "output_type": "display_data"
    }
   ],
   "source": [
    "plt.scatter(real,pred)\n",
    "plt.plot(np.arange(min,max),np.arange(min,max), color='red', linestyle='--')\n",
    "plt.xlabel('real')\n",
    "plt.ylabel('pred')"
   ]
  },
  {
   "cell_type": "code",
   "execution_count": 24,
   "metadata": {},
   "outputs": [
    {
     "data": {
      "text/plain": [
       "Text(0, 0.5, 'count')"
      ]
     },
     "execution_count": 24,
     "metadata": {},
     "output_type": "execute_result"
    },
    {
     "data": {
      "image/png": "[encoded data removed]",
      "text/plain": [
       "<Figure size 640x480 with 1 Axes>"
      ]
     },
     "metadata": {},
     "output_type": "display_data"
    }
   ],
   "source": [
    "plt.hist(real, bins=40)\n",
    "plt.title('real histogram')\n",
    "plt.xlabel('real value')\n",
    "plt.ylabel('count')"
   ]
  },
  {
   "cell_type": "code",
   "execution_count": 25,
   "metadata": {},
   "outputs": [],
   "source": [
    "r2 = r2_score(real,pred)"
   ]
  },
  {
   "cell_type": "code",
   "execution_count": 26,
   "metadata": {},
   "outputs": [
    {
     "data": {
      "text/plain": [
       "0.9634498097910684"
      ]
     },
     "execution_count": 26,
     "metadata": {},
     "output_type": "execute_result"
    }
   ],
   "source": [
    "r2"
   ]
  },
  {
   "cell_type": "code",
   "execution_count": 27,
   "metadata": {},
   "outputs": [],
   "source": [
    "import joblib"
   ]
  },
  {
   "cell_type": "code",
   "execution_count": 28,
   "metadata": {},
   "outputs": [
    {
     "data": {
      "text/plain": [
       "['./LGBM/model']"
      ]
     },
     "execution_count": 28,
     "metadata": {},
     "output_type": "execute_result"
    }
   ],
   "source": [
    "file_name = './LGBM/model'\n",
    "joblib.dump(model,file_name)"
   ]
  },
  {
   "cell_type": "code",
   "execution_count": 29,
   "metadata": {},
   "outputs": [
    {
     "data": {
      "text/plain": [
       "['./LGBM/scaler_x']"
      ]
     },
     "execution_count": 29,
     "metadata": {},
     "output_type": "execute_result"
    }
   ],
   "source": [
    "file_name = './LGBM/scaler_x'\n",
    "joblib.dump(scaler_x,file_name)"
   ]
  },
  {
   "cell_type": "code",
   "execution_count": 30,
   "metadata": {},
   "outputs": [
    {
     "data": {
      "text/plain": [
       "['./LGBM/scaler_y']"
      ]
     },
     "execution_count": 30,
     "metadata": {},
     "output_type": "execute_result"
    }
   ],
   "source": [
    "file_name = './LGBM/scaler_y'\n",
    "joblib.dump(scaler_y,file_name)"
   ]
  }
 ],
 "metadata": {
  "kernelspec": {
   "display_name": "boltzman",
   "language": "python",
   "name": "python3"
  },
  "language_info": {
   "codemirror_mode": {
    "name": "ipython",
    "version": 3
   },
   "file_extension": ".py",
   "mimetype": "text/x-python",
   "name": "python",
   "nbconvert_exporter": "python",
   "pygments_lexer": "ipython3",
   "version": "3.9.16"
  }
 },
 "nbformat": 4,
 "nbformat_minor": 2
}
